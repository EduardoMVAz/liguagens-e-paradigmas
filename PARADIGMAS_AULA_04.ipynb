{
  "nbformat": 4,
  "nbformat_minor": 0,
  "metadata": {
    "colab": {
      "name": "PARADIGMAS-AULA 04.ipynb",
      "provenance": [],
      "include_colab_link": true
    },
    "kernelspec": {
      "name": "python3",
      "display_name": "Python 3"
    }
  },
  "cells": [
    {
      "cell_type": "markdown",
      "metadata": {
        "id": "view-in-github",
        "colab_type": "text"
      },
      "source": [
        "<a href=\"https://colab.research.google.com/github/EduardoMVAz/liguagens-e-paradigmas/blob/main/PARADIGMAS_AULA_04.ipynb\" target=\"_parent\"><img src=\"https://colab.research.google.com/assets/colab-badge.svg\" alt=\"Open In Colab\"/></a>"
      ]
    },
    {
      "cell_type": "markdown",
      "metadata": {
        "id": "EwxHf3E81Qyz"
      },
      "source": [
        "**LINGUAGENS E PARADIGMAS - AULA 04**\n",
        "\n",
        "**Prof. Luciano Silva**\n",
        "\n",
        "**OBJETIVOS DA AULA:**\n",
        "\n",
        "\n",
        "\n",
        "*   Entender o design pattern Visitor em Python\n",
        "*   Entender e praticar com Visitor para percorrer a árvore sintática\n"
      ]
    },
    {
      "cell_type": "code",
      "metadata": {
        "id": "CbWUx55j1tLM",
        "outputId": "f4a6aa0c-77fe-468b-a7b6-13f44d0a6a8a",
        "colab": {
          "base_uri": "https://localhost:8080/"
        }
      },
      "source": [
        "!pip install rply"
      ],
      "execution_count": 1,
      "outputs": [
        {
          "output_type": "stream",
          "name": "stdout",
          "text": [
            "Collecting rply\n",
            "  Downloading rply-0.7.8-py2.py3-none-any.whl (16 kB)\n",
            "Requirement already satisfied: appdirs in /usr/local/lib/python3.10/dist-packages (from rply) (1.4.4)\n",
            "Installing collected packages: rply\n",
            "Successfully installed rply-0.7.8\n"
          ]
        }
      ]
    },
    {
      "cell_type": "markdown",
      "metadata": {
        "id": "G3U1M0ZlL0gT"
      },
      "source": [
        "**DESIGN PATTERN VISITOR**\n",
        "\n",
        "O Visitor é um design pattern comportamental que permite adicionar novos comportamentos à hierarquia de classes existente sem alterar nenhum código existente.\n",
        "\n",
        "<img src=https://www.oodesign.com/images/behavioral/visitor-pattern.png> </img>\n",
        "\n",
        "\n",
        "Vamos implementar este design pattern para as classes abaixo:"
      ]
    },
    {
      "cell_type": "code",
      "metadata": {
        "id": "FeJAdrR_RsJe"
      },
      "source": [
        "class Expr(object):\n",
        "    def accept(self, visitor):\n",
        "        method_name = 'visit_{}'.format(self.__class__.__name__.lower())\n",
        "        visit = getattr(visitor, method_name)\n",
        "        return visit(self)\n",
        "\n",
        "\n",
        "class Int(Expr):\n",
        "    def __init__(self, value):\n",
        "        self.value = value\n",
        "\n",
        "\n",
        "class Add(Expr):\n",
        "    def __init__(self, left, right):\n",
        "        self.left = left\n",
        "        self.right = right\n",
        "\n",
        "\n",
        "class Mul(Expr):\n",
        "    def __init__(self, left, right):\n",
        "        self.left = left\n",
        "        self.right = right\n"
      ],
      "execution_count": 4,
      "outputs": []
    },
    {
      "cell_type": "code",
      "metadata": {
        "id": "5pr65X4rb9x_"
      },
      "source": [
        "class Visitor(object):\n",
        "    pass\n",
        "\n",
        "\n",
        "class Eval(Visitor):\n",
        "    def visit_int(self, i):\n",
        "        return i.value\n",
        "\n",
        "    def visit_add(self, a):\n",
        "        return a.left.accept(self) + a.right.accept(self)\n",
        "\n",
        "    def visit_mul(self, a):\n",
        "        return a.left.accept(self) * a.right.accept(self)\n",
        "\n",
        "\n",
        "class Print(Visitor):\n",
        "    def visit_int(self, i):\n",
        "        return i.value\n",
        "\n",
        "    def visit_add(self, a):\n",
        "        return '(+ {} {})'.format(a.left.accept(self), a.right.accept(self))\n",
        "\n",
        "    def visit_mul(self, a):\n",
        "        return '(* {} {})'.format(a.left.accept(self), a.right.accept(self))\n"
      ],
      "execution_count": 3,
      "outputs": []
    },
    {
      "cell_type": "code",
      "metadata": {
        "id": "xQxlP6sHcB3Q",
        "outputId": "9dadfbf3-6ef9-4462-a091-d48bf6a28d5a",
        "colab": {
          "base_uri": "https://localhost:8080/"
        }
      },
      "source": [
        "expr = Add(Add(Int(4), Int(3)), Mul(Int(10), Add(Int(1), Int(1))))\n",
        "print(expr.accept(Print()))\n",
        "print(expr.accept(Eval()))"
      ],
      "execution_count": 5,
      "outputs": [
        {
          "output_type": "stream",
          "name": "stdout",
          "text": [
            "(+ (+ 4 3) (* 10 (+ 1 1)))\n",
            "27\n"
          ]
        }
      ]
    },
    {
      "cell_type": "markdown",
      "metadata": {
        "id": "WDogT1ytJrEt"
      },
      "source": [
        "**EXERCÍCIOS**\n",
        "\n",
        "Implementar um visitor de impressão e outro de cálculo da expressão para a gramática abaixo:\n",
        "\n",
        "\\<expression\\> ::= NUMBER\n",
        "\n",
        "       | \\<expression\\> \"+\" \\<expression\\>\n",
        "\n",
        "       | \\<expression\\> \"-\" \\<expression\\>\n",
        "\n",
        "       | \\<expression\\> \"*\" \\<expression\\>\n",
        "\n",
        "       | \\<expression\\> \"/\" \\<expression\\>\n",
        "\n",
        "       | \"(\" <expression> \")\""
      ]
    },
    {
      "cell_type": "code",
      "metadata": {
        "id": "RLcu5RuHDl6B"
      },
      "source": [
        "from rply.token import BaseBox\n",
        "\n",
        "class Expr(object):\n",
        "    def accept(self, visitor):\n",
        "        method_name = 'visit_{}'.format(self.__class__.__name__.lower())\n",
        "        visit = getattr(visitor, method_name)\n",
        "        return visit(self)\n",
        "\n",
        "\n",
        "class Number(Expr):\n",
        "    def __init__(self, value):\n",
        "        self.value = value\n",
        "\n",
        "\n",
        "class Add(Expr):\n",
        "    def __init__(self, left, right):\n",
        "        self.left = left\n",
        "        self.right = right\n",
        "\n",
        "\n",
        "class Mul(Expr):\n",
        "    def __init__(self, left, right):\n",
        "        self.left = left\n",
        "        self.right = right\n"
      ],
      "execution_count": 33,
      "outputs": []
    },
    {
      "cell_type": "code",
      "source": [
        "# Para implementar o Visitor, precisamos fazer uma Instância de Classe para\n",
        "# operação pedida, no caso, impressão e cálculo da expressão\n",
        "\n",
        "class Visitor(object):\n",
        "  pass\n",
        "\n",
        "# A classe print é nosso Visitor de impressão, e tem métodos para cada elemento\n",
        "# da nossa gramática, no caso são NUMBER e EXPRESSION\n",
        "class Print(Visitor):\n",
        "  def visit_number(self, number):\n",
        "    # retorna o valor do número\n",
        "    return number.value\n",
        "\n",
        "  # visitamos cada operação possível\n",
        "  def visit_add(self, expression):\n",
        "    return \"({} + {})\".format(expression.left.accept(self), expression.right.accept(self))\n",
        "\n",
        "  def visit_sub(self, expression):\n",
        "    return \"({} - {})\".format(expression.left.accept(self), expression.right.accept(self))\n",
        "\n",
        "  def visit_mul(self, expression):\n",
        "    return \"({} * {})\".format(expression.left.accept(self), expression.right.accept(self))\n",
        "\n",
        "  def visit_div(self, expression):\n",
        "    return \"({} / {})\".format(expression.left.accept(self), expression.right.accept(self))\n",
        "\n",
        "# A classe eval é nosso Visitor de cálculo, e tem metodos para cada elemento\n",
        "# da nossa grmática, no caso são NUMBER e EXPRESSION\n",
        "class Eval(Visitor):\n",
        "  def visit_number(self, number):\n",
        "    return number.value\n",
        "\n",
        "  def visit_add(self, expression):\n",
        "    return expression.left.accept(self) + expression.left.accept(self)\n",
        "\n",
        "  def visit_sub(self, expression):\n",
        "    return expression.left.accept(self) - expression.left.accept(self)\n",
        "\n",
        "  def visit_mul(self, expression):\n",
        "    return expression.left.accept(self) * expression.left.accept(self)\n",
        "\n",
        "  def visit_div(self, expression):\n",
        "    return expression.left.accept(self) / expression.left.accept(self)"
      ],
      "metadata": {
        "id": "gWW1AobuLgoj"
      },
      "execution_count": 34,
      "outputs": []
    },
    {
      "cell_type": "code",
      "source": [
        "# Testamos aqui o visitor\n",
        "expr = Add(Add(Number(4), Number(3)), Mul(Number(10), Add(Number(1), Number(1))))\n",
        "print(expr.accept(Print()))\n",
        "print(expr.accept(Eval()))"
      ],
      "metadata": {
        "id": "aGy4i6C7O81D",
        "outputId": "5643b5f3-a55a-477c-f419-ccdd3e883e5f",
        "colab": {
          "base_uri": "https://localhost:8080/"
        }
      },
      "execution_count": 35,
      "outputs": [
        {
          "output_type": "stream",
          "name": "stdout",
          "text": [
            "((4 + 3) + (10 * (1 + 1)))\n",
            "16\n"
          ]
        }
      ]
    }
  ]
}